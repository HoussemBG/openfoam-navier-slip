{
 "cells": [
  {
   "cell_type": "code",
   "execution_count": 1,
   "id": "53cb50f5",
   "metadata": {},
   "outputs": [
    {
     "ename": "FileNotFoundError",
     "evalue": "[Errno 2] No such file or directory: '../partialSlipStudy/wedgeFstPartialSlip/postProcessing/sampleLine'",
     "output_type": "error",
     "traceback": [
      "\u001b[0;31m---------------------------------------------------------------------------\u001b[0m",
      "\u001b[0;31mFileNotFoundError\u001b[0m                         Traceback (most recent call last)",
      "\u001b[0;32m/tmp/ipykernel_7629/1224588959.py\u001b[0m in \u001b[0;36m<module>\u001b[0;34m\u001b[0m\n\u001b[1;32m     32\u001b[0m \u001b[0mcase_dir\u001b[0m \u001b[0;34m=\u001b[0m \u001b[0;34m\"../partialSlipStudy/wedgeFstPartialSlip/\"\u001b[0m\u001b[0;34m\u001b[0m\u001b[0;34m\u001b[0m\u001b[0m\n\u001b[1;32m     33\u001b[0m \u001b[0mpost_proc_dir\u001b[0m \u001b[0;34m=\u001b[0m \u001b[0mos\u001b[0m\u001b[0;34m.\u001b[0m\u001b[0mpath\u001b[0m\u001b[0;34m.\u001b[0m\u001b[0mjoin\u001b[0m\u001b[0;34m(\u001b[0m\u001b[0mcase_dir\u001b[0m\u001b[0;34m,\u001b[0m \u001b[0;34m\"postProcessing/sampleLine\"\u001b[0m\u001b[0;34m)\u001b[0m\u001b[0;34m\u001b[0m\u001b[0;34m\u001b[0m\u001b[0m\n\u001b[0;32m---> 34\u001b[0;31m \u001b[0mtime_step_dirs\u001b[0m \u001b[0;34m=\u001b[0m \u001b[0;34m[\u001b[0m\u001b[0mint\u001b[0m\u001b[0;34m(\u001b[0m\u001b[0mfolder\u001b[0m\u001b[0;34m)\u001b[0m \u001b[0;32mfor\u001b[0m \u001b[0mfolder\u001b[0m \u001b[0;32min\u001b[0m \u001b[0mos\u001b[0m\u001b[0;34m.\u001b[0m\u001b[0mlistdir\u001b[0m\u001b[0;34m(\u001b[0m\u001b[0mpost_proc_dir\u001b[0m\u001b[0;34m)\u001b[0m\u001b[0;34m]\u001b[0m\u001b[0;34m\u001b[0m\u001b[0;34m\u001b[0m\u001b[0m\n\u001b[0m\u001b[1;32m     35\u001b[0m \u001b[0mtime_step_dirs\u001b[0m\u001b[0;34m.\u001b[0m\u001b[0msort\u001b[0m\u001b[0;34m(\u001b[0m\u001b[0;34m)\u001b[0m\u001b[0;34m\u001b[0m\u001b[0;34m\u001b[0m\u001b[0m\n\u001b[1;32m     36\u001b[0m \u001b[0mlast_time_step\u001b[0m \u001b[0;34m=\u001b[0m \u001b[0mstr\u001b[0m\u001b[0;34m(\u001b[0m\u001b[0mtime_step_dirs\u001b[0m\u001b[0;34m[\u001b[0m\u001b[0;34m-\u001b[0m\u001b[0;36m1\u001b[0m\u001b[0;34m]\u001b[0m\u001b[0;34m)\u001b[0m\u001b[0;34m\u001b[0m\u001b[0;34m\u001b[0m\u001b[0m\n",
      "\u001b[0;31mFileNotFoundError\u001b[0m: [Errno 2] No such file or directory: '../partialSlipStudy/wedgeFstPartialSlip/postProcessing/sampleLine'"
     ]
    }
   ],
   "source": [
    "import pandas as pd\n",
    "import numpy as np\n",
    "import os \n",
    "import matplotlib.pyplot as plt\n",
    "from matplotlib import rcParams\n",
    "\n",
    "rcParams[\"figure.dpi\"] = 200\n",
    "rcParams[\"text.usetex\"] = True\n",
    "\n",
    "# r : dimensional radius (in meter)\n",
    "# H : distance between the top and bottom disks\n",
    "# R : radius of the disk\n",
    "# Omega : angular speed of the rotating disk\n",
    "# z : height (im meter), measured from the fixed disk\n",
    "# Define the analytic velocity function\n",
    "# lambdaB: slip length at the bottom disk\n",
    "# lambdaT: slip length at the top disk\n",
    "\n",
    "\n",
    "#Define Parameters\n",
    "z=2.5e-6;\n",
    "h=5e-6;\n",
    "lambdaB=540e-9;\n",
    "lambdaT=540e-9;\n",
    "Omega=12.566;\n",
    "\n",
    "def calc_analytic_velocity(r,z, lambdaB, lambdaT, h, Omega):\n",
    "    # TODO(HBG): implement \n",
    "    return Omega*r*(z+lambdaB)/(h+lambdaB+lambdaT)\n",
    "\n",
    "# Find the folder from the last iteration\n",
    "case_dir = \"../partialSlipStudy/wedgeFstPartialSlip/\"\n",
    "post_proc_dir = os.path.join(case_dir, \"postProcessing/sampleLine\")\n",
    "time_step_dirs = [int(folder) for folder in os.listdir(post_proc_dir)] \n",
    "time_step_dirs.sort()\n",
    "last_time_step = str(time_step_dirs[-1])\n",
    "print(last_time_step)\n",
    "data_path = os.path.join(post_proc_dir,last_time_step)\n",
    "data_file = os.path.join(data_path, \"data_U.csv\")\n",
    "# Read the data as CSV into a Pandas DataFrame\n",
    "data = pd.read_csv(data_file)\n",
    "\n",
    "# Initialize the analytic velocity field\n",
    "exact_vel_data = np.zeros(len(data))\n",
    "\n",
    "# Calculate analytical velocity field\n",
    "\n",
    "for i in range(len(exact_vel_data)):\n",
    "    exact_vel_data[i] = calc_analytic_velocity(data[\"Points_0\"][i],z, lambdaB, lambdaT, h, Omega)\n",
    "\n",
    "# Plot analytical field\n",
    "plt.plot(data[\"Points_0\"], data[\"U_1\"],\"r*\", label=\"CFD\")\n",
    "plt.plot(data[\"Points_0\"], exact_vel_data,\"k\" ,label=\"analytical solution\")\n",
    "plt.legend()   \n",
    "plt.xlabel(\"r\")\n",
    "plt.ylabel(\"v\")\n",
    "plt.title(\"v=v(r,z=H/2) with H=5e-6m\")\n"
   ]
  },
  {
   "cell_type": "code",
   "execution_count": null,
   "id": "ae75d2de",
   "metadata": {},
   "outputs": [],
   "source": []
  },
  {
   "cell_type": "code",
   "execution_count": null,
   "id": "8b3a29fc",
   "metadata": {},
   "outputs": [],
   "source": []
  }
 ],
 "metadata": {
  "kernelspec": {
   "display_name": "Python 3 (ipykernel)",
   "language": "python",
   "name": "python3"
  },
  "language_info": {
   "codemirror_mode": {
    "name": "ipython",
    "version": 3
   },
   "file_extension": ".py",
   "mimetype": "text/x-python",
   "name": "python",
   "nbconvert_exporter": "python",
   "pygments_lexer": "ipython3",
   "version": "3.10.6"
  }
 },
 "nbformat": 4,
 "nbformat_minor": 5
}
